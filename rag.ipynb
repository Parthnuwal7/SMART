{
 "cells": [
  {
   "cell_type": "code",
   "execution_count": 5,
   "metadata": {},
   "outputs": [],
   "source": [
    "from llama_index.core import  VectorStoreIndex, SimpleDirectoryReader, ServiceContext\n",
    "from llama_index.core.prompts.prompts import SimpleInputPrompt"
   ]
  },
  {
   "cell_type": "code",
   "execution_count": 7,
   "metadata": {},
   "outputs": [
    {
     "data": {
      "text/plain": [
       "[Document(id_='5a10ee62-f994-4c5c-8bcf-442c65478909', embedding=None, metadata={'page_label': '1', 'file_name': 'Arka Dash _resume.pdf', 'file_path': \"c:\\\\Users\\\\dasha\\\\Desktop\\\\aumation'\\\\data\\\\Arka Dash _resume.pdf\", 'file_type': 'application/pdf', 'file_size': 63019, 'creation_date': '2024-10-09', 'last_modified_date': '2024-10-09'}, excluded_embed_metadata_keys=['file_name', 'file_type', 'file_size', 'creation_date', 'last_modified_date', 'last_accessed_date'], excluded_llm_metadata_keys=['file_name', 'file_type', 'file_size', 'creation_date', 'last_modified_date', 'last_accessed_date'], relationships={}, text='Dedicated and experienced Computer Science and Data Science Engineer with extensive knowledge in data\\nhaneling and Machine Learning. Adept problem-solver (90+ leetcode) with a passion for tackling challenging\\nprojects and driving continuous improvement in data-driven processes.\\nPython\\nPytorch\\nObject Oriented ProgramingRelational Databases\\nCritical thinking skills\\nExcellent communication skillsStreamlit\\nOpenCV\\nGit\\nUsed Car Price Prediction\\nVoice AnalysisScikit-Learn, ZenML, Pandas\\nTensorflow, Librosa, PytorchAn Production Level machine learning project with modular structure and integrated MLOps with ZenML and\\nMLFlow. Implemented with custom Inference and training pipelines with MLFlow for experiment tracking\\nalong with reusable code structure.\\nAnalyzing the voice to detect the subjects gender. Notebook available in both Pytorch and Tensorflow.\\nImplemented MFCC for producing accurate results.Face Reconstructor\\nIndian Institute of Technology, Chennai Member at Code Crafter\\nKalyani Government Engineering College, Kalyani\\nImpact Evaluation Methods 3-Day Short CoursePytorch, Yolo, OpenCV, Scikit-Image\\nMajors:  Data Science IITM Coding Club\\nComputer Science and Engineering\\nLiceria & Co.Reconstruct enhanced image from low resolution cctv images. AImed to help investigators to indentify\\nsuspects with higher accuracy. Geting inferencce in 9 ms (mili seconds) while capturing each and evry fram\\nfor better results with Stacked Network Super Resolution.Sep 2024 - Present\\nSep 2024 - Sep 2024\\nJune 2024 - Aug 2024DATA ANALYSIS & ENGINEERING++91-7029781484 · dasharka05@gmail.com · Linked In · GitHub  · LeetCode\\nKolkata, IndiaArka Dash\\nPROJECTS EXPERIENCE\\nEDUCATION & CERTIFICATIONS EXTRACURRICULAR ACTIVITIESSKILLS\\nCGPA - 9.1Data Processing\\nTensorflow\\nMySQL\\nCGPA - 8.4LANGUAGES\\nEnglish\\nHindi\\nBengali', mimetype='text/plain', start_char_idx=None, end_char_idx=None, text_template='{metadata_str}\\n\\n{content}', metadata_template='{key}: {value}', metadata_seperator='\\n')]"
      ]
     },
     "execution_count": 7,
     "metadata": {},
     "output_type": "execute_result"
    }
   ],
   "source": [
    "document = SimpleDirectoryReader('./data').load_data()\n",
    "document"
   ]
  },
  {
   "cell_type": "code",
   "execution_count": 11,
   "metadata": {},
   "outputs": [],
   "source": [
    "document = {\n",
    "    \"content\" : doc.text for doc in document\n",
    "}"
   ]
  },
  {
   "cell_type": "code",
   "execution_count": 14,
   "metadata": {},
   "outputs": [
    {
     "data": {
      "text/plain": [
       "{'content': 'Dedicated and experienced Computer Science and Data Science Engineer with extensive knowledge in data\\nhaneling and Machine Learning. Adept problem-solver (90+ leetcode) with a passion for tackling challenging\\nprojects and driving continuous improvement in data-driven processes.\\nPython\\nPytorch\\nObject Oriented ProgramingRelational Databases\\nCritical thinking skills\\nExcellent communication skillsStreamlit\\nOpenCV\\nGit\\nUsed Car Price Prediction\\nVoice AnalysisScikit-Learn, ZenML, Pandas\\nTensorflow, Librosa, PytorchAn Production Level machine learning project with modular structure and integrated MLOps with ZenML and\\nMLFlow. Implemented with custom Inference and training pipelines with MLFlow for experiment tracking\\nalong with reusable code structure.\\nAnalyzing the voice to detect the subjects gender. Notebook available in both Pytorch and Tensorflow.\\nImplemented MFCC for producing accurate results.Face Reconstructor\\nIndian Institute of Technology, Chennai Member at Code Crafter\\nKalyani Government Engineering College, Kalyani\\nImpact Evaluation Methods 3-Day Short CoursePytorch, Yolo, OpenCV, Scikit-Image\\nMajors:  Data Science IITM Coding Club\\nComputer Science and Engineering\\nLiceria & Co.Reconstruct enhanced image from low resolution cctv images. AImed to help investigators to indentify\\nsuspects with higher accuracy. Geting inferencce in 9 ms (mili seconds) while capturing each and evry fram\\nfor better results with Stacked Network Super Resolution.Sep 2024 - Present\\nSep 2024 - Sep 2024\\nJune 2024 - Aug 2024DATA ANALYSIS & ENGINEERING++91-7029781484 · dasharka05@gmail.com · Linked In · GitHub  · LeetCode\\nKolkata, IndiaArka Dash\\nPROJECTS EXPERIENCE\\nEDUCATION & CERTIFICATIONS EXTRACURRICULAR ACTIVITIESSKILLS\\nCGPA - 9.1Data Processing\\nTensorflow\\nMySQL\\nCGPA - 8.4LANGUAGES\\nEnglish\\nHindi\\nBengali'}"
      ]
     },
     "execution_count": 14,
     "metadata": {},
     "output_type": "execute_result"
    }
   ],
   "source": [
    "document"
   ]
  },
  {
   "cell_type": "code",
   "execution_count": 32,
   "metadata": {},
   "outputs": [],
   "source": [
    "from llama_pipe import LocalRAGPipeline\n",
    "from retriever import AsyncRetriever"
   ]
  },
  {
   "cell_type": "code",
   "execution_count": 33,
   "metadata": {},
   "outputs": [
    {
     "name": "stdout",
     "output_type": "stream",
     "text": [
      "Generating embeddings for 1 documents...\n"
     ]
    },
    {
     "name": "stderr",
     "output_type": "stream",
     "text": [
      "Batches: 100%|██████████| 1/1 [00:00<00:00, 28.96it/s]\n"
     ]
    }
   ],
   "source": [
    "retriever = AsyncRetriever(use_gpu=True)\n",
    "await retriever.add_documents([document])  "
   ]
  },
  {
   "cell_type": "code",
   "execution_count": 34,
   "metadata": {},
   "outputs": [
    {
     "name": "stdout",
     "output_type": "stream",
     "text": [
      "[{'content': {'content': 'Dedicated and experienced Computer Science and Data Science Engineer with extensive knowledge in data\\nhaneling and Machine Learning. Adept problem-solver (90+ leetcode) with a passion for tackling challenging\\nprojects and driving continuous improvement in data-driven processes.\\nPython\\nPytorch\\nObject Oriented ProgramingRelational Databases\\nCritical thinking skills\\nExcellent communication skillsStreamlit\\nOpenCV\\nGit\\nUsed Car Price Prediction\\nVoice AnalysisScikit-Learn, ZenML, Pandas\\nTensorflow, Librosa, PytorchAn Production Level machine learning project with modular structure and integrated MLOps with ZenML and\\nMLFlow. Implemented with custom Inference and training pipelines with MLFlow for experiment tracking\\nalong with reusable code structure.\\nAnalyzing the voice to detect the subjects gender. Notebook available in both Pytorch and Tensorflow.\\nImplemented MFCC for producing accurate results.Face Reconstructor\\nIndian Institute of Technology, Chennai Member at Code Crafter\\nKalyani Government Engineering College, Kalyani\\nImpact Evaluation Methods 3-Day Short CoursePytorch, Yolo, OpenCV, Scikit-Image\\nMajors:  Data Science IITM Coding Club\\nComputer Science and Engineering\\nLiceria & Co.Reconstruct enhanced image from low resolution cctv images. AImed to help investigators to indentify\\nsuspects with higher accuracy. Geting inferencce in 9 ms (mili seconds) while capturing each and evry fram\\nfor better results with Stacked Network Super Resolution.Sep 2024 - Present\\nSep 2024 - Sep 2024\\nJune 2024 - Aug 2024DATA ANALYSIS & ENGINEERING++91-7029781484 · dasharka05@gmail.com · Linked In · GitHub  · LeetCode\\nKolkata, IndiaArka Dash\\nPROJECTS EXPERIENCE\\nEDUCATION & CERTIFICATIONS EXTRACURRICULAR ACTIVITIESSKILLS\\nCGPA - 9.1Data Processing\\nTensorflow\\nMySQL\\nCGPA - 8.4LANGUAGES\\nEnglish\\nHindi\\nBengali'}, 'score': -0.7877843379974365}, {'content': {'content': 'Dedicated and experienced Computer Science and Data Science Engineer with extensive knowledge in data\\nhaneling and Machine Learning. Adept problem-solver (90+ leetcode) with a passion for tackling challenging\\nprojects and driving continuous improvement in data-driven processes.\\nPython\\nPytorch\\nObject Oriented ProgramingRelational Databases\\nCritical thinking skills\\nExcellent communication skillsStreamlit\\nOpenCV\\nGit\\nUsed Car Price Prediction\\nVoice AnalysisScikit-Learn, ZenML, Pandas\\nTensorflow, Librosa, PytorchAn Production Level machine learning project with modular structure and integrated MLOps with ZenML and\\nMLFlow. Implemented with custom Inference and training pipelines with MLFlow for experiment tracking\\nalong with reusable code structure.\\nAnalyzing the voice to detect the subjects gender. Notebook available in both Pytorch and Tensorflow.\\nImplemented MFCC for producing accurate results.Face Reconstructor\\nIndian Institute of Technology, Chennai Member at Code Crafter\\nKalyani Government Engineering College, Kalyani\\nImpact Evaluation Methods 3-Day Short CoursePytorch, Yolo, OpenCV, Scikit-Image\\nMajors:  Data Science IITM Coding Club\\nComputer Science and Engineering\\nLiceria & Co.Reconstruct enhanced image from low resolution cctv images. AImed to help investigators to indentify\\nsuspects with higher accuracy. Geting inferencce in 9 ms (mili seconds) while capturing each and evry fram\\nfor better results with Stacked Network Super Resolution.Sep 2024 - Present\\nSep 2024 - Sep 2024\\nJune 2024 - Aug 2024DATA ANALYSIS & ENGINEERING++91-7029781484 · dasharka05@gmail.com · Linked In · GitHub  · LeetCode\\nKolkata, IndiaArka Dash\\nPROJECTS EXPERIENCE\\nEDUCATION & CERTIFICATIONS EXTRACURRICULAR ACTIVITIESSKILLS\\nCGPA - 9.1Data Processing\\nTensorflow\\nMySQL\\nCGPA - 8.4LANGUAGES\\nEnglish\\nHindi\\nBengali'}, 'score': -3.4028234663852886e+38}, {'content': {'content': 'Dedicated and experienced Computer Science and Data Science Engineer with extensive knowledge in data\\nhaneling and Machine Learning. Adept problem-solver (90+ leetcode) with a passion for tackling challenging\\nprojects and driving continuous improvement in data-driven processes.\\nPython\\nPytorch\\nObject Oriented ProgramingRelational Databases\\nCritical thinking skills\\nExcellent communication skillsStreamlit\\nOpenCV\\nGit\\nUsed Car Price Prediction\\nVoice AnalysisScikit-Learn, ZenML, Pandas\\nTensorflow, Librosa, PytorchAn Production Level machine learning project with modular structure and integrated MLOps with ZenML and\\nMLFlow. Implemented with custom Inference and training pipelines with MLFlow for experiment tracking\\nalong with reusable code structure.\\nAnalyzing the voice to detect the subjects gender. Notebook available in both Pytorch and Tensorflow.\\nImplemented MFCC for producing accurate results.Face Reconstructor\\nIndian Institute of Technology, Chennai Member at Code Crafter\\nKalyani Government Engineering College, Kalyani\\nImpact Evaluation Methods 3-Day Short CoursePytorch, Yolo, OpenCV, Scikit-Image\\nMajors:  Data Science IITM Coding Club\\nComputer Science and Engineering\\nLiceria & Co.Reconstruct enhanced image from low resolution cctv images. AImed to help investigators to indentify\\nsuspects with higher accuracy. Geting inferencce in 9 ms (mili seconds) while capturing each and evry fram\\nfor better results with Stacked Network Super Resolution.Sep 2024 - Present\\nSep 2024 - Sep 2024\\nJune 2024 - Aug 2024DATA ANALYSIS & ENGINEERING++91-7029781484 · dasharka05@gmail.com · Linked In · GitHub  · LeetCode\\nKolkata, IndiaArka Dash\\nPROJECTS EXPERIENCE\\nEDUCATION & CERTIFICATIONS EXTRACURRICULAR ACTIVITIESSKILLS\\nCGPA - 9.1Data Processing\\nTensorflow\\nMySQL\\nCGPA - 8.4LANGUAGES\\nEnglish\\nHindi\\nBengali'}, 'score': -3.4028234663852886e+38}, {'content': {'content': 'Dedicated and experienced Computer Science and Data Science Engineer with extensive knowledge in data\\nhaneling and Machine Learning. Adept problem-solver (90+ leetcode) with a passion for tackling challenging\\nprojects and driving continuous improvement in data-driven processes.\\nPython\\nPytorch\\nObject Oriented ProgramingRelational Databases\\nCritical thinking skills\\nExcellent communication skillsStreamlit\\nOpenCV\\nGit\\nUsed Car Price Prediction\\nVoice AnalysisScikit-Learn, ZenML, Pandas\\nTensorflow, Librosa, PytorchAn Production Level machine learning project with modular structure and integrated MLOps with ZenML and\\nMLFlow. Implemented with custom Inference and training pipelines with MLFlow for experiment tracking\\nalong with reusable code structure.\\nAnalyzing the voice to detect the subjects gender. Notebook available in both Pytorch and Tensorflow.\\nImplemented MFCC for producing accurate results.Face Reconstructor\\nIndian Institute of Technology, Chennai Member at Code Crafter\\nKalyani Government Engineering College, Kalyani\\nImpact Evaluation Methods 3-Day Short CoursePytorch, Yolo, OpenCV, Scikit-Image\\nMajors:  Data Science IITM Coding Club\\nComputer Science and Engineering\\nLiceria & Co.Reconstruct enhanced image from low resolution cctv images. AImed to help investigators to indentify\\nsuspects with higher accuracy. Geting inferencce in 9 ms (mili seconds) while capturing each and evry fram\\nfor better results with Stacked Network Super Resolution.Sep 2024 - Present\\nSep 2024 - Sep 2024\\nJune 2024 - Aug 2024DATA ANALYSIS & ENGINEERING++91-7029781484 · dasharka05@gmail.com · Linked In · GitHub  · LeetCode\\nKolkata, IndiaArka Dash\\nPROJECTS EXPERIENCE\\nEDUCATION & CERTIFICATIONS EXTRACURRICULAR ACTIVITIESSKILLS\\nCGPA - 9.1Data Processing\\nTensorflow\\nMySQL\\nCGPA - 8.4LANGUAGES\\nEnglish\\nHindi\\nBengali'}, 'score': -3.4028234663852886e+38}, {'content': {'content': 'Dedicated and experienced Computer Science and Data Science Engineer with extensive knowledge in data\\nhaneling and Machine Learning. Adept problem-solver (90+ leetcode) with a passion for tackling challenging\\nprojects and driving continuous improvement in data-driven processes.\\nPython\\nPytorch\\nObject Oriented ProgramingRelational Databases\\nCritical thinking skills\\nExcellent communication skillsStreamlit\\nOpenCV\\nGit\\nUsed Car Price Prediction\\nVoice AnalysisScikit-Learn, ZenML, Pandas\\nTensorflow, Librosa, PytorchAn Production Level machine learning project with modular structure and integrated MLOps with ZenML and\\nMLFlow. Implemented with custom Inference and training pipelines with MLFlow for experiment tracking\\nalong with reusable code structure.\\nAnalyzing the voice to detect the subjects gender. Notebook available in both Pytorch and Tensorflow.\\nImplemented MFCC for producing accurate results.Face Reconstructor\\nIndian Institute of Technology, Chennai Member at Code Crafter\\nKalyani Government Engineering College, Kalyani\\nImpact Evaluation Methods 3-Day Short CoursePytorch, Yolo, OpenCV, Scikit-Image\\nMajors:  Data Science IITM Coding Club\\nComputer Science and Engineering\\nLiceria & Co.Reconstruct enhanced image from low resolution cctv images. AImed to help investigators to indentify\\nsuspects with higher accuracy. Geting inferencce in 9 ms (mili seconds) while capturing each and evry fram\\nfor better results with Stacked Network Super Resolution.Sep 2024 - Present\\nSep 2024 - Sep 2024\\nJune 2024 - Aug 2024DATA ANALYSIS & ENGINEERING++91-7029781484 · dasharka05@gmail.com · Linked In · GitHub  · LeetCode\\nKolkata, IndiaArka Dash\\nPROJECTS EXPERIENCE\\nEDUCATION & CERTIFICATIONS EXTRACURRICULAR ACTIVITIESSKILLS\\nCGPA - 9.1Data Processing\\nTensorflow\\nMySQL\\nCGPA - 8.4LANGUAGES\\nEnglish\\nHindi\\nBengali'}, 'score': -3.4028234663852886e+38}]\n"
     ]
    }
   ],
   "source": [
    "async def test_retrieve():\n",
    "    results = await retriever.retrieve(\"who is arka?\")\n",
    "    print(results)  # This will print the list of retrieved documents\n",
    "\n",
    "# Call the test function\n",
    "await test_retrieve()\n"
   ]
  },
  {
   "cell_type": "code",
   "execution_count": 35,
   "metadata": {},
   "outputs": [
    {
     "ename": "TypeError",
     "evalue": "sequence item 0: expected str instance, dict found",
     "output_type": "error",
     "traceback": [
      "\u001b[1;31m---------------------------------------------------------------------------\u001b[0m",
      "\u001b[1;31mTypeError\u001b[0m                                 Traceback (most recent call last)",
      "Cell \u001b[1;32mIn[35], line 7\u001b[0m\n\u001b[0;32m      5\u001b[0m \u001b[38;5;66;03m# Run the pipeline with a query\u001b[39;00m\n\u001b[0;32m      6\u001b[0m query \u001b[38;5;241m=\u001b[39m \u001b[38;5;124m\"\u001b[39m\u001b[38;5;124mwhat skills does arka have?\u001b[39m\u001b[38;5;124m\"\u001b[39m\n\u001b[1;32m----> 7\u001b[0m response \u001b[38;5;241m=\u001b[39m \u001b[38;5;28;01mawait\u001b[39;00m rag_pipeline\u001b[38;5;241m.\u001b[39mrun(query)\n\u001b[0;32m      9\u001b[0m \u001b[38;5;28mprint\u001b[39m(\u001b[38;5;124m\"\u001b[39m\u001b[38;5;124mGenerated Response:\u001b[39m\u001b[38;5;124m\"\u001b[39m, response)\n",
      "File \u001b[1;32mc:\\Users\\dasha\\Desktop\\aumation'\\llama_pipe.py:32\u001b[0m, in \u001b[0;36mLocalRAGPipeline.run\u001b[1;34m(self, query)\u001b[0m\n\u001b[0;32m     30\u001b[0m retrieved_docs \u001b[38;5;241m=\u001b[39m \u001b[38;5;28;01mawait\u001b[39;00m \u001b[38;5;28mself\u001b[39m\u001b[38;5;241m.\u001b[39mretrieve(query)\n\u001b[0;32m     31\u001b[0m context \u001b[38;5;241m=\u001b[39m [doc[\u001b[38;5;124m'\u001b[39m\u001b[38;5;124mcontent\u001b[39m\u001b[38;5;124m'\u001b[39m] \u001b[38;5;28;01mfor\u001b[39;00m doc \u001b[38;5;129;01min\u001b[39;00m retrieved_docs]  \u001b[38;5;66;03m# Assuming each doc has a 'content' field\u001b[39;00m\n\u001b[1;32m---> 32\u001b[0m \u001b[38;5;28;01mreturn\u001b[39;00m \u001b[38;5;28;01mawait\u001b[39;00m \u001b[38;5;28mself\u001b[39m\u001b[38;5;241m.\u001b[39mgenerate(query, context)\n",
      "File \u001b[1;32mc:\\Users\\dasha\\Desktop\\aumation'\\llama_pipe.py:22\u001b[0m, in \u001b[0;36mLocalRAGPipeline.generate\u001b[1;34m(self, prompt, context)\u001b[0m\n\u001b[0;32m     20\u001b[0m \u001b[38;5;28;01masync\u001b[39;00m \u001b[38;5;28;01mdef\u001b[39;00m \u001b[38;5;21mgenerate\u001b[39m(\u001b[38;5;28mself\u001b[39m, prompt: \u001b[38;5;28mstr\u001b[39m, context: List[\u001b[38;5;28mstr\u001b[39m]) \u001b[38;5;241m-\u001b[39m\u001b[38;5;241m>\u001b[39m \u001b[38;5;28mstr\u001b[39m:\n\u001b[0;32m     21\u001b[0m \u001b[38;5;250m    \u001b[39m\u001b[38;5;124;03m\"\"\"Generate a response using the local LLaMA model.\"\"\"\u001b[39;00m\n\u001b[1;32m---> 22\u001b[0m     full_prompt \u001b[38;5;241m=\u001b[39m \u001b[38;5;124mf\u001b[39m\u001b[38;5;124m\"\u001b[39m\u001b[38;5;124mContext:\u001b[39m\u001b[38;5;130;01m\\n\u001b[39;00m\u001b[38;5;132;01m{\u001b[39;00m\u001b[38;5;124;43m'\u001b[39;49m\u001b[38;5;124;43m \u001b[39;49m\u001b[38;5;124;43m'\u001b[39;49m\u001b[38;5;241;43m.\u001b[39;49m\u001b[43mjoin\u001b[49m\u001b[43m(\u001b[49m\u001b[43mcontext\u001b[49m\u001b[43m)\u001b[49m\u001b[38;5;132;01m}\u001b[39;00m\u001b[38;5;130;01m\\n\u001b[39;00m\u001b[38;5;130;01m\\n\u001b[39;00m\u001b[38;5;124mQuestion: \u001b[39m\u001b[38;5;132;01m{\u001b[39;00mprompt\u001b[38;5;132;01m}\u001b[39;00m\u001b[38;5;130;01m\\n\u001b[39;00m\u001b[38;5;130;01m\\n\u001b[39;00m\u001b[38;5;124mAnswer:\u001b[39m\u001b[38;5;124m\"\u001b[39m\n\u001b[0;32m     23\u001b[0m     response \u001b[38;5;241m=\u001b[39m \u001b[38;5;124m\"\u001b[39m\u001b[38;5;124m\"\u001b[39m\n\u001b[0;32m     24\u001b[0m     \u001b[38;5;28;01masync\u001b[39;00m \u001b[38;5;28;01mfor\u001b[39;00m part \u001b[38;5;129;01min\u001b[39;00m \u001b[38;5;28;01mawait\u001b[39;00m \u001b[38;5;28mself\u001b[39m\u001b[38;5;241m.\u001b[39mclient\u001b[38;5;241m.\u001b[39mstream(\u001b[38;5;124m\"\u001b[39m\u001b[38;5;124mPOST\u001b[39m\u001b[38;5;124m\"\u001b[39m, \u001b[38;5;124m\"\u001b[39m\u001b[38;5;124m/generate\u001b[39m\u001b[38;5;124m\"\u001b[39m, json\u001b[38;5;241m=\u001b[39m{\u001b[38;5;124m\"\u001b[39m\u001b[38;5;124mmodel\u001b[39m\u001b[38;5;124m\"\u001b[39m: \u001b[38;5;28mself\u001b[39m\u001b[38;5;241m.\u001b[39mmodel_name, \u001b[38;5;124m\"\u001b[39m\u001b[38;5;124mprompt\u001b[39m\u001b[38;5;124m\"\u001b[39m: full_prompt}):\n",
      "\u001b[1;31mTypeError\u001b[0m: sequence item 0: expected str instance, dict found"
     ]
    }
   ],
   "source": [
    "\n",
    "# Initialize the Local RAG Pipeline and set the retriever\n",
    "rag_pipeline = LocalRAGPipeline()\n",
    "await rag_pipeline.set_retriever(retriever)\n",
    "\n",
    "# Run the pipeline with a query\n",
    "query = \"what skills does arka have?\"\n",
    "response = await rag_pipeline.run(query)\n",
    "\n",
    "print(\"Generated Response:\", response)"
   ]
  },
  {
   "cell_type": "code",
   "execution_count": null,
   "metadata": {},
   "outputs": [],
   "source": []
  }
 ],
 "metadata": {
  "kernelspec": {
   "display_name": ".venv",
   "language": "python",
   "name": "python3"
  },
  "language_info": {
   "codemirror_mode": {
    "name": "ipython",
    "version": 3
   },
   "file_extension": ".py",
   "mimetype": "text/x-python",
   "name": "python",
   "nbconvert_exporter": "python",
   "pygments_lexer": "ipython3",
   "version": "3.12.6"
  }
 },
 "nbformat": 4,
 "nbformat_minor": 2
}
